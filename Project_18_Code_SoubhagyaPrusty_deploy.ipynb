{
 "cells": [
  {
   "cell_type": "markdown",
   "id": "fa8f0ebe",
   "metadata": {},
   "source": [
    "# Author: Soubhagya Prusty\n",
    "# Project - 18"
   ]
  },
  {
   "cell_type": "markdown",
   "id": "0eed11f1",
   "metadata": {},
   "source": [
    "# Importing the packages for the Project"
   ]
  },
  {
   "cell_type": "code",
   "execution_count": null,
   "id": "56b369a9",
   "metadata": {},
   "outputs": [],
   "source": [
    "%reset -fs"
   ]
  },
  {
   "cell_type": "code",
   "execution_count": 1,
   "id": "db4f4887",
   "metadata": {},
   "outputs": [],
   "source": [
    "import warnings\n",
    "warnings.filterwarnings('ignore')\n",
    "import numpy as np\n",
    "import pandas as pd\n",
    "#from scipy import stats"
   ]
  },
  {
   "cell_type": "code",
   "execution_count": 2,
   "id": "c8fc0aa9",
   "metadata": {},
   "outputs": [],
   "source": [
    "import matplotlib\n",
    "import matplotlib.pyplot as plt\n",
    "import seaborn as sns\n",
    "from datetime import datetime\n",
    "%matplotlib inline\n",
    "plt.style.use('seaborn')"
   ]
  },
  {
   "cell_type": "code",
   "execution_count": 3,
   "id": "aebd6d23",
   "metadata": {},
   "outputs": [],
   "source": [
    "import imblearn\n",
    "from imblearn.over_sampling import SMOTE\n",
    "from imblearn.under_sampling import RandomUnderSampler\n",
    "from imblearn.pipeline import Pipeline\n",
    "from imblearn.pipeline import make_pipeline"
   ]
  },
  {
   "cell_type": "code",
   "execution_count": 7,
   "id": "c295b912",
   "metadata": {},
   "outputs": [
    {
     "name": "stdout",
     "output_type": "stream",
     "text": [
      "Collecting imbalanced-learn\n",
      "  Downloading imbalanced_learn-0.9.1-py3-none-any.whl (199 kB)\n",
      "Requirement already satisfied: scipy>=1.3.2 in c:\\users\\soprusty\\anaconda3\\lib\\site-packages (from imbalanced-learn) (1.7.3)\n",
      "Collecting scikit-learn>=1.1.0\n",
      "  Downloading scikit_learn-1.1.2-cp39-cp39-win_amd64.whl (7.4 MB)\n",
      "Requirement already satisfied: threadpoolctl>=2.0.0 in c:\\users\\soprusty\\anaconda3\\lib\\site-packages (from imbalanced-learn) (2.2.0)\n",
      "Requirement already satisfied: joblib>=1.0.0 in c:\\users\\soprusty\\anaconda3\\lib\\site-packages (from imbalanced-learn) (1.1.0)\n",
      "Requirement already satisfied: numpy>=1.17.3 in c:\\users\\soprusty\\anaconda3\\lib\\site-packages (from imbalanced-learn) (1.21.5)\n",
      "Installing collected packages: scikit-learn, imbalanced-learn\n",
      "  Attempting uninstall: scikit-learn\n",
      "    Found existing installation: scikit-learn 1.0.2\n",
      "    Uninstalling scikit-learn-1.0.2:\n",
      "      Successfully uninstalled scikit-learn-1.0.2\n",
      "Successfully installed imbalanced-learn-0.9.1 scikit-learn-1.1.2\n",
      "Note: you may need to restart the kernel to use updated packages.\n"
     ]
    }
   ],
   "source": [
    "pip install -U imbalanced-learn"
   ]
  },
  {
   "cell_type": "markdown",
   "id": "edcb0273",
   "metadata": {},
   "source": [
    "# Loading Source data both Train and Test data"
   ]
  },
  {
   "cell_type": "code",
   "execution_count": 5,
   "id": "dfe87777",
   "metadata": {},
   "outputs": [],
   "source": [
    "train_data = pd.read_csv('C:/Users/soprusty/Desktop/UoH/Project Submition/Source_Data/train_Deploy.csv')\n",
    "#test_data = pd.read_csv('C:/Users/soprusty/Desktop/UoH/Project Submition/Source_Data/test.csv')"
   ]
  },
  {
   "cell_type": "markdown",
   "id": "9f9d30d7",
   "metadata": {},
   "source": [
    "# Checking how many numerical and how many categorical feature are there"
   ]
  },
  {
   "cell_type": "code",
   "execution_count": 6,
   "id": "b1e7f127",
   "metadata": {},
   "outputs": [
    {
     "name": "stdout",
     "output_type": "stream",
     "text": [
      "There are 200 numerical features: ['var_0', 'var_1', 'var_2', 'var_3', 'var_4', 'var_5', 'var_6', 'var_7', 'var_8', 'var_9', 'var_10', 'var_11', 'var_12', 'var_13', 'var_14', 'var_15', 'var_16', 'var_17', 'var_18', 'var_19', 'var_20', 'var_21', 'var_22', 'var_23', 'var_24', 'var_25', 'var_26', 'var_27', 'var_28', 'var_29', 'var_30', 'var_31', 'var_32', 'var_33', 'var_34', 'var_35', 'var_36', 'var_37', 'var_38', 'var_39', 'var_40', 'var_41', 'var_42', 'var_43', 'var_44', 'var_45', 'var_46', 'var_47', 'var_48', 'var_49', 'var_50', 'var_51', 'var_52', 'var_53', 'var_54', 'var_55', 'var_56', 'var_57', 'var_58', 'var_59', 'var_60', 'var_61', 'var_62', 'var_63', 'var_64', 'var_65', 'var_66', 'var_67', 'var_68', 'var_69', 'var_70', 'var_71', 'var_72', 'var_73', 'var_74', 'var_75', 'var_76', 'var_77', 'var_78', 'var_79', 'var_80', 'var_81', 'var_82', 'var_83', 'var_84', 'var_85', 'var_86', 'var_87', 'var_88', 'var_89', 'var_90', 'var_91', 'var_92', 'var_93', 'var_94', 'var_95', 'var_96', 'var_97', 'var_98', 'var_99', 'var_100', 'var_101', 'var_102', 'var_103', 'var_104', 'var_105', 'var_106', 'var_107', 'var_108', 'var_109', 'var_110', 'var_111', 'var_112', 'var_113', 'var_114', 'var_115', 'var_116', 'var_117', 'var_118', 'var_119', 'var_120', 'var_121', 'var_122', 'var_123', 'var_124', 'var_125', 'var_126', 'var_127', 'var_128', 'var_129', 'var_130', 'var_131', 'var_132', 'var_133', 'var_134', 'var_135', 'var_136', 'var_137', 'var_138', 'var_139', 'var_140', 'var_141', 'var_142', 'var_143', 'var_144', 'var_145', 'var_146', 'var_147', 'var_148', 'var_149', 'var_150', 'var_151', 'var_152', 'var_153', 'var_154', 'var_155', 'var_156', 'var_157', 'var_158', 'var_159', 'var_160', 'var_161', 'var_162', 'var_163', 'var_164', 'var_165', 'var_166', 'var_167', 'var_168', 'var_169', 'var_170', 'var_171', 'var_172', 'var_173', 'var_174', 'var_175', 'var_176', 'var_177', 'var_178', 'var_179', 'var_180', 'var_181', 'var_182', 'var_183', 'var_184', 'var_185', 'var_186', 'var_187', 'var_188', 'var_189', 'var_190', 'var_191', 'var_192', 'var_193', 'var_194', 'var_195', 'var_196', 'var_197', 'var_198', 'var_199']\n",
      "There are 0 cat features: []\n"
     ]
    }
   ],
   "source": [
    "# Numerical features\n",
    "num_vars = []\n",
    "# Categorical features\n",
    "cat_vars = []\n",
    "\n",
    "for var, dtype in train_data.dtypes.items():\n",
    "    if \"float\" in str(dtype) or \"int\" in str(dtype):\n",
    "        num_vars.append(var)\n",
    "    if \"object\" in str(dtype):\n",
    "        cat_vars.append(var)\n",
    "\n",
    "id_var = \"ID_code\" # this is just the order of data\n",
    "cat_vars.remove(id_var)\n",
    "target_var = \"target\"\n",
    "num_vars.remove(target_var)\n",
    "print(\"There are %d numerical features: %s\" %(len(num_vars), num_vars))\n",
    "print(\"There are %d cat features: %s\" %(len(cat_vars), cat_vars))"
   ]
  },
  {
   "cell_type": "markdown",
   "id": "45c4bb52",
   "metadata": {},
   "source": [
    "# EDA (Exploratory Data Analysis)"
   ]
  },
  {
   "cell_type": "markdown",
   "id": "0d4ffcd4",
   "metadata": {},
   "source": [
    "# Feature Standardization"
   ]
  },
  {
   "cell_type": "code",
   "execution_count": 8,
   "id": "769894be",
   "metadata": {},
   "outputs": [
    {
     "data": {
      "text/html": [
       "<div>\n",
       "<style scoped>\n",
       "    .dataframe tbody tr th:only-of-type {\n",
       "        vertical-align: middle;\n",
       "    }\n",
       "\n",
       "    .dataframe tbody tr th {\n",
       "        vertical-align: top;\n",
       "    }\n",
       "\n",
       "    .dataframe thead th {\n",
       "        text-align: right;\n",
       "    }\n",
       "</style>\n",
       "<table border=\"1\" class=\"dataframe\">\n",
       "  <thead>\n",
       "    <tr style=\"text-align: right;\">\n",
       "      <th></th>\n",
       "      <th>var_0</th>\n",
       "      <th>var_1</th>\n",
       "      <th>var_2</th>\n",
       "      <th>var_3</th>\n",
       "      <th>var_4</th>\n",
       "      <th>var_5</th>\n",
       "      <th>var_6</th>\n",
       "      <th>var_7</th>\n",
       "      <th>var_8</th>\n",
       "      <th>var_9</th>\n",
       "      <th>...</th>\n",
       "      <th>var_190</th>\n",
       "      <th>var_191</th>\n",
       "      <th>var_192</th>\n",
       "      <th>var_193</th>\n",
       "      <th>var_194</th>\n",
       "      <th>var_195</th>\n",
       "      <th>var_196</th>\n",
       "      <th>var_197</th>\n",
       "      <th>var_198</th>\n",
       "      <th>var_199</th>\n",
       "    </tr>\n",
       "  </thead>\n",
       "  <tbody>\n",
       "    <tr>\n",
       "      <th>count</th>\n",
       "      <td>9.998000e+03</td>\n",
       "      <td>9.998000e+03</td>\n",
       "      <td>9.998000e+03</td>\n",
       "      <td>9.998000e+03</td>\n",
       "      <td>9.998000e+03</td>\n",
       "      <td>9.998000e+03</td>\n",
       "      <td>9.998000e+03</td>\n",
       "      <td>9.998000e+03</td>\n",
       "      <td>9.998000e+03</td>\n",
       "      <td>9.998000e+03</td>\n",
       "      <td>...</td>\n",
       "      <td>9.998000e+03</td>\n",
       "      <td>9.998000e+03</td>\n",
       "      <td>9.998000e+03</td>\n",
       "      <td>9.998000e+03</td>\n",
       "      <td>9.998000e+03</td>\n",
       "      <td>9.998000e+03</td>\n",
       "      <td>9.998000e+03</td>\n",
       "      <td>9.998000e+03</td>\n",
       "      <td>9.998000e+03</td>\n",
       "      <td>9.998000e+03</td>\n",
       "    </tr>\n",
       "    <tr>\n",
       "      <th>mean</th>\n",
       "      <td>4.213029e-16</td>\n",
       "      <td>-6.246254e-17</td>\n",
       "      <td>2.864504e-16</td>\n",
       "      <td>-3.211074e-16</td>\n",
       "      <td>-1.816244e-16</td>\n",
       "      <td>2.097631e-17</td>\n",
       "      <td>-4.018507e-16</td>\n",
       "      <td>9.290261e-16</td>\n",
       "      <td>-1.567949e-17</td>\n",
       "      <td>4.513959e-16</td>\n",
       "      <td>...</td>\n",
       "      <td>9.982069e-17</td>\n",
       "      <td>-2.102055e-17</td>\n",
       "      <td>7.835301e-17</td>\n",
       "      <td>-2.023231e-17</td>\n",
       "      <td>-4.833101e-16</td>\n",
       "      <td>-4.716060e-17</td>\n",
       "      <td>3.580075e-17</td>\n",
       "      <td>-1.860262e-15</td>\n",
       "      <td>2.376353e-16</td>\n",
       "      <td>4.241900e-18</td>\n",
       "    </tr>\n",
       "    <tr>\n",
       "      <th>std</th>\n",
       "      <td>1.000050e+00</td>\n",
       "      <td>1.000050e+00</td>\n",
       "      <td>1.000050e+00</td>\n",
       "      <td>1.000050e+00</td>\n",
       "      <td>1.000050e+00</td>\n",
       "      <td>1.000050e+00</td>\n",
       "      <td>1.000050e+00</td>\n",
       "      <td>1.000050e+00</td>\n",
       "      <td>1.000050e+00</td>\n",
       "      <td>1.000050e+00</td>\n",
       "      <td>...</td>\n",
       "      <td>1.000050e+00</td>\n",
       "      <td>1.000050e+00</td>\n",
       "      <td>1.000050e+00</td>\n",
       "      <td>1.000050e+00</td>\n",
       "      <td>1.000050e+00</td>\n",
       "      <td>1.000050e+00</td>\n",
       "      <td>1.000050e+00</td>\n",
       "      <td>1.000050e+00</td>\n",
       "      <td>1.000050e+00</td>\n",
       "      <td>1.000050e+00</td>\n",
       "    </tr>\n",
       "    <tr>\n",
       "      <th>min</th>\n",
       "      <td>-3.070492e+00</td>\n",
       "      <td>-2.894459e+00</td>\n",
       "      <td>-2.805249e+00</td>\n",
       "      <td>-2.758626e+00</td>\n",
       "      <td>-3.168074e+00</td>\n",
       "      <td>-3.054321e+00</td>\n",
       "      <td>-3.135963e+00</td>\n",
       "      <td>-2.614475e+00</td>\n",
       "      <td>-3.100712e+00</td>\n",
       "      <td>-2.643740e+00</td>\n",
       "      <td>...</td>\n",
       "      <td>-3.236692e+00</td>\n",
       "      <td>-2.853163e+00</td>\n",
       "      <td>-3.697443e+00</td>\n",
       "      <td>-3.185024e+00</td>\n",
       "      <td>-2.407785e+00</td>\n",
       "      <td>-3.042411e+00</td>\n",
       "      <td>-2.688682e+00</td>\n",
       "      <td>-2.891121e+00</td>\n",
       "      <td>-2.874795e+00</td>\n",
       "      <td>-3.136803e+00</td>\n",
       "    </tr>\n",
       "    <tr>\n",
       "      <th>25%</th>\n",
       "      <td>-7.298585e-01</td>\n",
       "      <td>-7.746642e-01</td>\n",
       "      <td>-7.524107e-01</td>\n",
       "      <td>-7.542686e-01</td>\n",
       "      <td>-7.452306e-01</td>\n",
       "      <td>-7.858556e-01</td>\n",
       "      <td>-7.309884e-01</td>\n",
       "      <td>-7.610996e-01</td>\n",
       "      <td>-7.692283e-01</td>\n",
       "      <td>-7.806328e-01</td>\n",
       "      <td>...</td>\n",
       "      <td>-7.311485e-01</td>\n",
       "      <td>-7.585919e-01</td>\n",
       "      <td>-6.935293e-01</td>\n",
       "      <td>-6.856857e-01</td>\n",
       "      <td>-7.586651e-01</td>\n",
       "      <td>-7.262640e-01</td>\n",
       "      <td>-7.835088e-01</td>\n",
       "      <td>-7.107080e-01</td>\n",
       "      <td>-6.739769e-01</td>\n",
       "      <td>-7.627010e-01</td>\n",
       "    </tr>\n",
       "    <tr>\n",
       "      <th>50%</th>\n",
       "      <td>-5.162494e-02</td>\n",
       "      <td>5.198184e-03</td>\n",
       "      <td>-6.305204e-02</td>\n",
       "      <td>1.182671e-02</td>\n",
       "      <td>1.168952e-02</td>\n",
       "      <td>2.330967e-02</td>\n",
       "      <td>-1.763527e-02</td>\n",
       "      <td>-1.101343e-02</td>\n",
       "      <td>9.703128e-03</td>\n",
       "      <td>5.580138e-02</td>\n",
       "      <td>...</td>\n",
       "      <td>9.650124e-03</td>\n",
       "      <td>-3.303680e-02</td>\n",
       "      <td>-7.465004e-03</td>\n",
       "      <td>1.822690e-02</td>\n",
       "      <td>-2.255248e-02</td>\n",
       "      <td>-2.271630e-02</td>\n",
       "      <td>3.172351e-02</td>\n",
       "      <td>-1.843333e-02</td>\n",
       "      <td>1.128980e-02</td>\n",
       "      <td>4.581631e-02</td>\n",
       "    </tr>\n",
       "    <tr>\n",
       "      <th>75%</th>\n",
       "      <td>6.859982e-01</td>\n",
       "      <td>7.310937e-01</td>\n",
       "      <td>6.852789e-01</td>\n",
       "      <td>7.459749e-01</td>\n",
       "      <td>7.307660e-01</td>\n",
       "      <td>7.693664e-01</td>\n",
       "      <td>6.835405e-01</td>\n",
       "      <td>7.479456e-01</td>\n",
       "      <td>7.934096e-01</td>\n",
       "      <td>8.315807e-01</td>\n",
       "      <td>...</td>\n",
       "      <td>6.920612e-01</td>\n",
       "      <td>6.830687e-01</td>\n",
       "      <td>6.922610e-01</td>\n",
       "      <td>7.143386e-01</td>\n",
       "      <td>7.763070e-01</td>\n",
       "      <td>6.735549e-01</td>\n",
       "      <td>7.746144e-01</td>\n",
       "      <td>7.462941e-01</td>\n",
       "      <td>7.336380e-01</td>\n",
       "      <td>7.771508e-01</td>\n",
       "    </tr>\n",
       "    <tr>\n",
       "      <th>max</th>\n",
       "      <td>2.832894e+00</td>\n",
       "      <td>2.503485e+00</td>\n",
       "      <td>2.895322e+00</td>\n",
       "      <td>3.021284e+00</td>\n",
       "      <td>2.632924e+00</td>\n",
       "      <td>2.839016e+00</td>\n",
       "      <td>2.840373e+00</td>\n",
       "      <td>3.011561e+00</td>\n",
       "      <td>2.661018e+00</td>\n",
       "      <td>2.610093e+00</td>\n",
       "      <td>...</td>\n",
       "      <td>2.915766e+00</td>\n",
       "      <td>2.941376e+00</td>\n",
       "      <td>3.517625e+00</td>\n",
       "      <td>3.361595e+00</td>\n",
       "      <td>2.985008e+00</td>\n",
       "      <td>2.626352e+00</td>\n",
       "      <td>2.954455e+00</td>\n",
       "      <td>3.191424e+00</td>\n",
       "      <td>3.178070e+00</td>\n",
       "      <td>2.800844e+00</td>\n",
       "    </tr>\n",
       "  </tbody>\n",
       "</table>\n",
       "<p>8 rows × 200 columns</p>\n",
       "</div>"
      ],
      "text/plain": [
       "              var_0         var_1         var_2         var_3         var_4  \\\n",
       "count  9.998000e+03  9.998000e+03  9.998000e+03  9.998000e+03  9.998000e+03   \n",
       "mean   4.213029e-16 -6.246254e-17  2.864504e-16 -3.211074e-16 -1.816244e-16   \n",
       "std    1.000050e+00  1.000050e+00  1.000050e+00  1.000050e+00  1.000050e+00   \n",
       "min   -3.070492e+00 -2.894459e+00 -2.805249e+00 -2.758626e+00 -3.168074e+00   \n",
       "25%   -7.298585e-01 -7.746642e-01 -7.524107e-01 -7.542686e-01 -7.452306e-01   \n",
       "50%   -5.162494e-02  5.198184e-03 -6.305204e-02  1.182671e-02  1.168952e-02   \n",
       "75%    6.859982e-01  7.310937e-01  6.852789e-01  7.459749e-01  7.307660e-01   \n",
       "max    2.832894e+00  2.503485e+00  2.895322e+00  3.021284e+00  2.632924e+00   \n",
       "\n",
       "              var_5         var_6         var_7         var_8         var_9  \\\n",
       "count  9.998000e+03  9.998000e+03  9.998000e+03  9.998000e+03  9.998000e+03   \n",
       "mean   2.097631e-17 -4.018507e-16  9.290261e-16 -1.567949e-17  4.513959e-16   \n",
       "std    1.000050e+00  1.000050e+00  1.000050e+00  1.000050e+00  1.000050e+00   \n",
       "min   -3.054321e+00 -3.135963e+00 -2.614475e+00 -3.100712e+00 -2.643740e+00   \n",
       "25%   -7.858556e-01 -7.309884e-01 -7.610996e-01 -7.692283e-01 -7.806328e-01   \n",
       "50%    2.330967e-02 -1.763527e-02 -1.101343e-02  9.703128e-03  5.580138e-02   \n",
       "75%    7.693664e-01  6.835405e-01  7.479456e-01  7.934096e-01  8.315807e-01   \n",
       "max    2.839016e+00  2.840373e+00  3.011561e+00  2.661018e+00  2.610093e+00   \n",
       "\n",
       "       ...       var_190       var_191       var_192       var_193  \\\n",
       "count  ...  9.998000e+03  9.998000e+03  9.998000e+03  9.998000e+03   \n",
       "mean   ...  9.982069e-17 -2.102055e-17  7.835301e-17 -2.023231e-17   \n",
       "std    ...  1.000050e+00  1.000050e+00  1.000050e+00  1.000050e+00   \n",
       "min    ... -3.236692e+00 -2.853163e+00 -3.697443e+00 -3.185024e+00   \n",
       "25%    ... -7.311485e-01 -7.585919e-01 -6.935293e-01 -6.856857e-01   \n",
       "50%    ...  9.650124e-03 -3.303680e-02 -7.465004e-03  1.822690e-02   \n",
       "75%    ...  6.920612e-01  6.830687e-01  6.922610e-01  7.143386e-01   \n",
       "max    ...  2.915766e+00  2.941376e+00  3.517625e+00  3.361595e+00   \n",
       "\n",
       "            var_194       var_195       var_196       var_197       var_198  \\\n",
       "count  9.998000e+03  9.998000e+03  9.998000e+03  9.998000e+03  9.998000e+03   \n",
       "mean  -4.833101e-16 -4.716060e-17  3.580075e-17 -1.860262e-15  2.376353e-16   \n",
       "std    1.000050e+00  1.000050e+00  1.000050e+00  1.000050e+00  1.000050e+00   \n",
       "min   -2.407785e+00 -3.042411e+00 -2.688682e+00 -2.891121e+00 -2.874795e+00   \n",
       "25%   -7.586651e-01 -7.262640e-01 -7.835088e-01 -7.107080e-01 -6.739769e-01   \n",
       "50%   -2.255248e-02 -2.271630e-02  3.172351e-02 -1.843333e-02  1.128980e-02   \n",
       "75%    7.763070e-01  6.735549e-01  7.746144e-01  7.462941e-01  7.336380e-01   \n",
       "max    2.985008e+00  2.626352e+00  2.954455e+00  3.191424e+00  3.178070e+00   \n",
       "\n",
       "            var_199  \n",
       "count  9.998000e+03  \n",
       "mean   4.241900e-18  \n",
       "std    1.000050e+00  \n",
       "min   -3.136803e+00  \n",
       "25%   -7.627010e-01  \n",
       "50%    4.581631e-02  \n",
       "75%    7.771508e-01  \n",
       "max    2.800844e+00  \n",
       "\n",
       "[8 rows x 200 columns]"
      ]
     },
     "execution_count": 8,
     "metadata": {},
     "output_type": "execute_result"
    }
   ],
   "source": [
    "from sklearn.preprocessing import StandardScaler\n",
    "\n",
    "std_scaler = StandardScaler()\n",
    "std_scaler.fit(train_data[num_vars].values) \n",
    "#std_scaler.fit(test_data[num_vars].values) \n",
    "train_std_df = pd.DataFrame(std_scaler.transform(train_data[num_vars].values), columns=num_vars)\n",
    "#test_std_df = pd.DataFrame(std_scaler.transform(test_data[num_vars].values) , columns=num_vars)\n",
    "\n",
    "train_std_df['target'] = train_data['target'].values\n",
    "train_std_df[num_vars].describe()"
   ]
  },
  {
   "cell_type": "code",
   "execution_count": 9,
   "id": "7c491b8c",
   "metadata": {},
   "outputs": [],
   "source": [
    "train_data.drop(['ID_code'],axis=1,inplace=True)\n",
    "labels=train_data['target']\n",
    "train_data.drop(['target'],axis=1,inplace=True)"
   ]
  },
  {
   "cell_type": "code",
   "execution_count": 10,
   "id": "49d8e7f1",
   "metadata": {},
   "outputs": [
    {
     "data": {
      "text/html": [
       "<div>\n",
       "<style scoped>\n",
       "    .dataframe tbody tr th:only-of-type {\n",
       "        vertical-align: middle;\n",
       "    }\n",
       "\n",
       "    .dataframe tbody tr th {\n",
       "        vertical-align: top;\n",
       "    }\n",
       "\n",
       "    .dataframe thead th {\n",
       "        text-align: right;\n",
       "    }\n",
       "</style>\n",
       "<table border=\"1\" class=\"dataframe\">\n",
       "  <thead>\n",
       "    <tr style=\"text-align: right;\">\n",
       "      <th></th>\n",
       "      <th>var_0</th>\n",
       "      <th>var_1</th>\n",
       "      <th>var_2</th>\n",
       "      <th>var_3</th>\n",
       "      <th>var_4</th>\n",
       "      <th>var_5</th>\n",
       "      <th>var_6</th>\n",
       "      <th>var_7</th>\n",
       "      <th>var_8</th>\n",
       "      <th>var_9</th>\n",
       "      <th>...</th>\n",
       "      <th>var_190</th>\n",
       "      <th>var_191</th>\n",
       "      <th>var_192</th>\n",
       "      <th>var_193</th>\n",
       "      <th>var_194</th>\n",
       "      <th>var_195</th>\n",
       "      <th>var_196</th>\n",
       "      <th>var_197</th>\n",
       "      <th>var_198</th>\n",
       "      <th>var_199</th>\n",
       "    </tr>\n",
       "  </thead>\n",
       "  <tbody>\n",
       "    <tr>\n",
       "      <th>0</th>\n",
       "      <td>8.9255</td>\n",
       "      <td>-6.7863</td>\n",
       "      <td>11.9081</td>\n",
       "      <td>5.0930</td>\n",
       "      <td>11.4607</td>\n",
       "      <td>-9.2834</td>\n",
       "      <td>5.1187</td>\n",
       "      <td>18.6266</td>\n",
       "      <td>-4.9200</td>\n",
       "      <td>5.7470</td>\n",
       "      <td>...</td>\n",
       "      <td>4.4354</td>\n",
       "      <td>3.9642</td>\n",
       "      <td>3.1364</td>\n",
       "      <td>1.6910</td>\n",
       "      <td>18.5227</td>\n",
       "      <td>-2.3978</td>\n",
       "      <td>7.8784</td>\n",
       "      <td>8.5635</td>\n",
       "      <td>12.7803</td>\n",
       "      <td>-1.0914</td>\n",
       "    </tr>\n",
       "    <tr>\n",
       "      <th>1</th>\n",
       "      <td>11.5006</td>\n",
       "      <td>-4.1473</td>\n",
       "      <td>13.8588</td>\n",
       "      <td>5.3890</td>\n",
       "      <td>12.3622</td>\n",
       "      <td>7.0433</td>\n",
       "      <td>5.6208</td>\n",
       "      <td>16.5338</td>\n",
       "      <td>3.1468</td>\n",
       "      <td>8.0851</td>\n",
       "      <td>...</td>\n",
       "      <td>7.6421</td>\n",
       "      <td>7.7214</td>\n",
       "      <td>2.5837</td>\n",
       "      <td>10.9516</td>\n",
       "      <td>15.4305</td>\n",
       "      <td>2.0339</td>\n",
       "      <td>8.1267</td>\n",
       "      <td>8.7889</td>\n",
       "      <td>18.3560</td>\n",
       "      <td>1.9518</td>\n",
       "    </tr>\n",
       "    <tr>\n",
       "      <th>2</th>\n",
       "      <td>8.6093</td>\n",
       "      <td>-2.7457</td>\n",
       "      <td>12.0805</td>\n",
       "      <td>7.8928</td>\n",
       "      <td>10.5825</td>\n",
       "      <td>-9.0837</td>\n",
       "      <td>6.9427</td>\n",
       "      <td>14.6155</td>\n",
       "      <td>-4.9193</td>\n",
       "      <td>5.9525</td>\n",
       "      <td>...</td>\n",
       "      <td>2.9057</td>\n",
       "      <td>9.7905</td>\n",
       "      <td>1.6704</td>\n",
       "      <td>1.6858</td>\n",
       "      <td>21.6042</td>\n",
       "      <td>3.1417</td>\n",
       "      <td>-6.5213</td>\n",
       "      <td>8.2675</td>\n",
       "      <td>14.7222</td>\n",
       "      <td>0.3965</td>\n",
       "    </tr>\n",
       "    <tr>\n",
       "      <th>3</th>\n",
       "      <td>11.0604</td>\n",
       "      <td>-2.1518</td>\n",
       "      <td>8.9522</td>\n",
       "      <td>7.1957</td>\n",
       "      <td>12.5846</td>\n",
       "      <td>-1.8361</td>\n",
       "      <td>5.8428</td>\n",
       "      <td>14.9250</td>\n",
       "      <td>-5.8609</td>\n",
       "      <td>8.2450</td>\n",
       "      <td>...</td>\n",
       "      <td>4.4666</td>\n",
       "      <td>4.7433</td>\n",
       "      <td>0.7178</td>\n",
       "      <td>1.4214</td>\n",
       "      <td>23.0347</td>\n",
       "      <td>-1.2706</td>\n",
       "      <td>-2.9275</td>\n",
       "      <td>10.2922</td>\n",
       "      <td>17.9697</td>\n",
       "      <td>-8.9996</td>\n",
       "    </tr>\n",
       "    <tr>\n",
       "      <th>4</th>\n",
       "      <td>9.8369</td>\n",
       "      <td>-1.4834</td>\n",
       "      <td>12.8746</td>\n",
       "      <td>6.6375</td>\n",
       "      <td>12.2772</td>\n",
       "      <td>2.4486</td>\n",
       "      <td>5.9405</td>\n",
       "      <td>19.2514</td>\n",
       "      <td>6.2654</td>\n",
       "      <td>7.6784</td>\n",
       "      <td>...</td>\n",
       "      <td>-1.4905</td>\n",
       "      <td>9.5214</td>\n",
       "      <td>-0.1508</td>\n",
       "      <td>9.1942</td>\n",
       "      <td>13.2876</td>\n",
       "      <td>-1.5121</td>\n",
       "      <td>3.9267</td>\n",
       "      <td>9.5031</td>\n",
       "      <td>17.9974</td>\n",
       "      <td>-8.8104</td>\n",
       "    </tr>\n",
       "  </tbody>\n",
       "</table>\n",
       "<p>5 rows × 200 columns</p>\n",
       "</div>"
      ],
      "text/plain": [
       "     var_0   var_1    var_2   var_3    var_4   var_5   var_6    var_7   var_8  \\\n",
       "0   8.9255 -6.7863  11.9081  5.0930  11.4607 -9.2834  5.1187  18.6266 -4.9200   \n",
       "1  11.5006 -4.1473  13.8588  5.3890  12.3622  7.0433  5.6208  16.5338  3.1468   \n",
       "2   8.6093 -2.7457  12.0805  7.8928  10.5825 -9.0837  6.9427  14.6155 -4.9193   \n",
       "3  11.0604 -2.1518   8.9522  7.1957  12.5846 -1.8361  5.8428  14.9250 -5.8609   \n",
       "4   9.8369 -1.4834  12.8746  6.6375  12.2772  2.4486  5.9405  19.2514  6.2654   \n",
       "\n",
       "    var_9  ...  var_190  var_191  var_192  var_193  var_194  var_195  var_196  \\\n",
       "0  5.7470  ...   4.4354   3.9642   3.1364   1.6910  18.5227  -2.3978   7.8784   \n",
       "1  8.0851  ...   7.6421   7.7214   2.5837  10.9516  15.4305   2.0339   8.1267   \n",
       "2  5.9525  ...   2.9057   9.7905   1.6704   1.6858  21.6042   3.1417  -6.5213   \n",
       "3  8.2450  ...   4.4666   4.7433   0.7178   1.4214  23.0347  -1.2706  -2.9275   \n",
       "4  7.6784  ...  -1.4905   9.5214  -0.1508   9.1942  13.2876  -1.5121   3.9267   \n",
       "\n",
       "   var_197  var_198  var_199  \n",
       "0   8.5635  12.7803  -1.0914  \n",
       "1   8.7889  18.3560   1.9518  \n",
       "2   8.2675  14.7222   0.3965  \n",
       "3  10.2922  17.9697  -8.9996  \n",
       "4   9.5031  17.9974  -8.8104  \n",
       "\n",
       "[5 rows x 200 columns]"
      ]
     },
     "execution_count": 10,
     "metadata": {},
     "output_type": "execute_result"
    }
   ],
   "source": [
    "train_data.head(5)"
   ]
  },
  {
   "cell_type": "code",
   "execution_count": 12,
   "id": "c34c282b",
   "metadata": {},
   "outputs": [],
   "source": [
    "YY=train_std_df['target']\n",
    "XX=train_std_df.drop(['target'],axis=1)"
   ]
  },
  {
   "cell_type": "code",
   "execution_count": 13,
   "id": "db872a99",
   "metadata": {},
   "outputs": [],
   "source": [
    "from sklearn.model_selection import train_test_split\n",
    "x_train, x_test, y_train, y_test = train_test_split(XX,YY, test_size=0.30, random_state=0)"
   ]
  },
  {
   "cell_type": "code",
   "execution_count": 16,
   "id": "2e9f4180",
   "metadata": {},
   "outputs": [
    {
     "name": "stdout",
     "output_type": "stream",
     "text": [
      "(6998, 200)\n",
      "(3000, 200)\n",
      "(6998,)\n",
      "(3000,)\n"
     ]
    }
   ],
   "source": [
    "print(x_train.shape)\n",
    "print(x_test.shape)\n",
    "print(y_train.shape)\n",
    "print(y_test.shape)"
   ]
  },
  {
   "cell_type": "code",
   "execution_count": 17,
   "id": "a78b1247",
   "metadata": {},
   "outputs": [],
   "source": [
    "over = SMOTE(sampling_strategy=0.1)\n",
    "under = RandomUnderSampler(sampling_strategy=0.15)"
   ]
  },
  {
   "cell_type": "code",
   "execution_count": 18,
   "id": "9261b58e",
   "metadata": {},
   "outputs": [],
   "source": [
    "pipeline = make_pipeline(over,under)"
   ]
  },
  {
   "cell_type": "code",
   "execution_count": 19,
   "id": "6fdea11b",
   "metadata": {},
   "outputs": [
    {
     "data": {
      "text/plain": [
       "<AxesSubplot:xlabel='target', ylabel='count'>"
      ]
     },
     "execution_count": 19,
     "metadata": {},
     "output_type": "execute_result"
    },
    {
     "data": {
      "image/png": "[encoded data removed]",
      "text/plain": [
       "<Figure size 576x396 with 1 Axes>"
      ]
     },
     "metadata": {},
     "output_type": "display_data"
    }
   ],
   "source": [
    "sns.countplot(train_std_df[\"target\"])"
   ]
  },
  {
   "cell_type": "code",
   "execution_count": 20,
   "id": "f7d2c2ef",
   "metadata": {},
   "outputs": [],
   "source": [
    "y = train_std_df.pop('target')\n",
    "X = train_std_df"
   ]
  },
  {
   "cell_type": "code",
   "execution_count": 21,
   "id": "5d693b4d",
   "metadata": {},
   "outputs": [
    {
     "data": {
      "text/plain": [
       "0       0\n",
       "1       0\n",
       "2       0\n",
       "3       0\n",
       "4       0\n",
       "       ..\n",
       "9993    0\n",
       "9994    0\n",
       "9995    0\n",
       "9996    0\n",
       "9997    0\n",
       "Name: target, Length: 9998, dtype: int64"
      ]
     },
     "execution_count": 21,
     "metadata": {},
     "output_type": "execute_result"
    }
   ],
   "source": [
    "y"
   ]
  },
  {
   "cell_type": "code",
   "execution_count": 22,
   "id": "60d1c6cd",
   "metadata": {},
   "outputs": [
    {
     "data": {
      "text/html": [
       "<div>\n",
       "<style scoped>\n",
       "    .dataframe tbody tr th:only-of-type {\n",
       "        vertical-align: middle;\n",
       "    }\n",
       "\n",
       "    .dataframe tbody tr th {\n",
       "        vertical-align: top;\n",
       "    }\n",
       "\n",
       "    .dataframe thead th {\n",
       "        text-align: right;\n",
       "    }\n",
       "</style>\n",
       "<table border=\"1\" class=\"dataframe\">\n",
       "  <thead>\n",
       "    <tr style=\"text-align: right;\">\n",
       "      <th></th>\n",
       "      <th>var_0</th>\n",
       "      <th>var_1</th>\n",
       "      <th>var_2</th>\n",
       "      <th>var_3</th>\n",
       "      <th>var_4</th>\n",
       "      <th>var_5</th>\n",
       "      <th>var_6</th>\n",
       "      <th>var_7</th>\n",
       "      <th>var_8</th>\n",
       "      <th>var_9</th>\n",
       "      <th>...</th>\n",
       "      <th>var_190</th>\n",
       "      <th>var_191</th>\n",
       "      <th>var_192</th>\n",
       "      <th>var_193</th>\n",
       "      <th>var_194</th>\n",
       "      <th>var_195</th>\n",
       "      <th>var_196</th>\n",
       "      <th>var_197</th>\n",
       "      <th>var_198</th>\n",
       "      <th>var_199</th>\n",
       "    </tr>\n",
       "  </thead>\n",
       "  <tbody>\n",
       "    <tr>\n",
       "      <th>0</th>\n",
       "      <td>-0.574730</td>\n",
       "      <td>-1.266707</td>\n",
       "      <td>0.454327</td>\n",
       "      <td>-0.833049</td>\n",
       "      <td>0.228594</td>\n",
       "      <td>-0.541077</td>\n",
       "      <td>-0.326665</td>\n",
       "      <td>0.583649</td>\n",
       "      <td>-1.570549</td>\n",
       "      <td>-1.471375</td>\n",
       "      <td>...</td>\n",
       "      <td>0.259427</td>\n",
       "      <td>-1.149110</td>\n",
       "      <td>0.807226</td>\n",
       "      <td>-0.405720</td>\n",
       "      <td>0.158135</td>\n",
       "      <td>-1.569140</td>\n",
       "      <td>1.031531</td>\n",
       "      <td>-0.379935</td>\n",
       "      <td>-1.030996</td>\n",
       "      <td>0.228034</td>\n",
       "    </tr>\n",
       "    <tr>\n",
       "      <th>1</th>\n",
       "      <td>0.271964</td>\n",
       "      <td>-0.619423</td>\n",
       "      <td>1.193760</td>\n",
       "      <td>-0.688346</td>\n",
       "      <td>0.783553</td>\n",
       "      <td>1.538658</td>\n",
       "      <td>0.250152</td>\n",
       "      <td>-0.025673</td>\n",
       "      <td>0.863542</td>\n",
       "      <td>0.406997</td>\n",
       "      <td>...</td>\n",
       "      <td>0.958835</td>\n",
       "      <td>0.086888</td>\n",
       "      <td>0.432960</td>\n",
       "      <td>1.906003</td>\n",
       "      <td>-0.817115</td>\n",
       "      <td>1.554082</td>\n",
       "      <td>1.077252</td>\n",
       "      <td>-0.134543</td>\n",
       "      <td>0.822477</td>\n",
       "      <td>0.518847</td>\n",
       "    </tr>\n",
       "    <tr>\n",
       "      <th>2</th>\n",
       "      <td>-0.678697</td>\n",
       "      <td>-0.275643</td>\n",
       "      <td>0.519677</td>\n",
       "      <td>0.535667</td>\n",
       "      <td>-0.312021</td>\n",
       "      <td>-0.515639</td>\n",
       "      <td>1.768763</td>\n",
       "      <td>-0.584189</td>\n",
       "      <td>-1.570338</td>\n",
       "      <td>-1.306281</td>\n",
       "      <td>...</td>\n",
       "      <td>-0.074212</td>\n",
       "      <td>0.767556</td>\n",
       "      <td>-0.185490</td>\n",
       "      <td>-0.407018</td>\n",
       "      <td>1.130009</td>\n",
       "      <td>2.334799</td>\n",
       "      <td>-1.619935</td>\n",
       "      <td>-0.702189</td>\n",
       "      <td>-0.385470</td>\n",
       "      <td>0.370220</td>\n",
       "    </tr>\n",
       "    <tr>\n",
       "      <th>3</th>\n",
       "      <td>0.127226</td>\n",
       "      <td>-0.129974</td>\n",
       "      <td>-0.666137</td>\n",
       "      <td>0.194881</td>\n",
       "      <td>0.920462</td>\n",
       "      <td>0.407578</td>\n",
       "      <td>0.505188</td>\n",
       "      <td>-0.494077</td>\n",
       "      <td>-1.854458</td>\n",
       "      <td>0.535457</td>\n",
       "      <td>...</td>\n",
       "      <td>0.266232</td>\n",
       "      <td>-0.892811</td>\n",
       "      <td>-0.830553</td>\n",
       "      <td>-0.473020</td>\n",
       "      <td>1.581175</td>\n",
       "      <td>-0.774750</td>\n",
       "      <td>-0.958196</td>\n",
       "      <td>1.502094</td>\n",
       "      <td>0.694063</td>\n",
       "      <td>-0.527688</td>\n",
       "    </tr>\n",
       "    <tr>\n",
       "      <th>4</th>\n",
       "      <td>-0.275061</td>\n",
       "      <td>0.033969</td>\n",
       "      <td>0.820689</td>\n",
       "      <td>-0.078002</td>\n",
       "      <td>0.731228</td>\n",
       "      <td>0.953374</td>\n",
       "      <td>0.617427</td>\n",
       "      <td>0.765560</td>\n",
       "      <td>1.804554</td>\n",
       "      <td>0.080264</td>\n",
       "      <td>...</td>\n",
       "      <td>-1.033059</td>\n",
       "      <td>0.679031</td>\n",
       "      <td>-1.418733</td>\n",
       "      <td>1.467303</td>\n",
       "      <td>-1.492964</td>\n",
       "      <td>-0.944947</td>\n",
       "      <td>0.303891</td>\n",
       "      <td>0.643004</td>\n",
       "      <td>0.703271</td>\n",
       "      <td>-0.509608</td>\n",
       "    </tr>\n",
       "    <tr>\n",
       "      <th>...</th>\n",
       "      <td>...</td>\n",
       "      <td>...</td>\n",
       "      <td>...</td>\n",
       "      <td>...</td>\n",
       "      <td>...</td>\n",
       "      <td>...</td>\n",
       "      <td>...</td>\n",
       "      <td>...</td>\n",
       "      <td>...</td>\n",
       "      <td>...</td>\n",
       "      <td>...</td>\n",
       "      <td>...</td>\n",
       "      <td>...</td>\n",
       "      <td>...</td>\n",
       "      <td>...</td>\n",
       "      <td>...</td>\n",
       "      <td>...</td>\n",
       "      <td>...</td>\n",
       "      <td>...</td>\n",
       "      <td>...</td>\n",
       "      <td>...</td>\n",
       "    </tr>\n",
       "    <tr>\n",
       "      <th>9993</th>\n",
       "      <td>-1.006248</td>\n",
       "      <td>0.488319</td>\n",
       "      <td>-0.678570</td>\n",
       "      <td>0.463755</td>\n",
       "      <td>-1.030667</td>\n",
       "      <td>-1.237745</td>\n",
       "      <td>1.415734</td>\n",
       "      <td>-0.234312</td>\n",
       "      <td>-0.009729</td>\n",
       "      <td>0.009406</td>\n",
       "      <td>...</td>\n",
       "      <td>-0.720445</td>\n",
       "      <td>1.288411</td>\n",
       "      <td>-2.379555</td>\n",
       "      <td>-1.019510</td>\n",
       "      <td>0.741385</td>\n",
       "      <td>-0.677707</td>\n",
       "      <td>-0.301632</td>\n",
       "      <td>-0.985032</td>\n",
       "      <td>1.382405</td>\n",
       "      <td>0.410757</td>\n",
       "    </tr>\n",
       "    <tr>\n",
       "      <th>9994</th>\n",
       "      <td>1.238375</td>\n",
       "      <td>1.070164</td>\n",
       "      <td>-1.993491</td>\n",
       "      <td>-1.285539</td>\n",
       "      <td>-0.240058</td>\n",
       "      <td>1.777806</td>\n",
       "      <td>0.989870</td>\n",
       "      <td>0.707417</td>\n",
       "      <td>0.431991</td>\n",
       "      <td>0.692275</td>\n",
       "      <td>...</td>\n",
       "      <td>0.051418</td>\n",
       "      <td>-0.974494</td>\n",
       "      <td>1.392630</td>\n",
       "      <td>0.006394</td>\n",
       "      <td>-0.957621</td>\n",
       "      <td>-0.544581</td>\n",
       "      <td>0.676062</td>\n",
       "      <td>0.106386</td>\n",
       "      <td>-0.688337</td>\n",
       "      <td>-0.953837</td>\n",
       "    </tr>\n",
       "    <tr>\n",
       "      <th>9995</th>\n",
       "      <td>1.759688</td>\n",
       "      <td>-0.274662</td>\n",
       "      <td>0.890170</td>\n",
       "      <td>1.299513</td>\n",
       "      <td>0.460427</td>\n",
       "      <td>-0.332934</td>\n",
       "      <td>-0.818355</td>\n",
       "      <td>-0.926903</td>\n",
       "      <td>1.062088</td>\n",
       "      <td>0.076167</td>\n",
       "      <td>...</td>\n",
       "      <td>-0.048279</td>\n",
       "      <td>-0.369028</td>\n",
       "      <td>-0.490822</td>\n",
       "      <td>1.506046</td>\n",
       "      <td>0.937558</td>\n",
       "      <td>1.236312</td>\n",
       "      <td>-0.356301</td>\n",
       "      <td>-1.955605</td>\n",
       "      <td>-0.279295</td>\n",
       "      <td>0.482515</td>\n",
       "    </tr>\n",
       "    <tr>\n",
       "      <th>9996</th>\n",
       "      <td>-0.800879</td>\n",
       "      <td>1.844256</td>\n",
       "      <td>0.280452</td>\n",
       "      <td>0.327656</td>\n",
       "      <td>1.180119</td>\n",
       "      <td>-0.676179</td>\n",
       "      <td>0.799972</td>\n",
       "      <td>-0.054613</td>\n",
       "      <td>-0.211232</td>\n",
       "      <td>-1.406382</td>\n",
       "      <td>...</td>\n",
       "      <td>-0.230879</td>\n",
       "      <td>1.462204</td>\n",
       "      <td>0.943064</td>\n",
       "      <td>-0.229506</td>\n",
       "      <td>1.481417</td>\n",
       "      <td>-0.115531</td>\n",
       "      <td>-0.259391</td>\n",
       "      <td>-0.658423</td>\n",
       "      <td>-0.156831</td>\n",
       "      <td>0.328813</td>\n",
       "    </tr>\n",
       "    <tr>\n",
       "      <th>9997</th>\n",
       "      <td>-1.076316</td>\n",
       "      <td>0.252142</td>\n",
       "      <td>-2.011876</td>\n",
       "      <td>0.484483</td>\n",
       "      <td>0.504196</td>\n",
       "      <td>0.941731</td>\n",
       "      <td>0.078635</td>\n",
       "      <td>0.450389</td>\n",
       "      <td>-1.929652</td>\n",
       "      <td>1.123688</td>\n",
       "      <td>...</td>\n",
       "      <td>-0.172426</td>\n",
       "      <td>0.011851</td>\n",
       "      <td>-0.584608</td>\n",
       "      <td>-0.566481</td>\n",
       "      <td>-1.231348</td>\n",
       "      <td>0.838131</td>\n",
       "      <td>-0.812197</td>\n",
       "      <td>-2.546440</td>\n",
       "      <td>1.161180</td>\n",
       "      <td>0.608962</td>\n",
       "    </tr>\n",
       "  </tbody>\n",
       "</table>\n",
       "<p>9998 rows × 200 columns</p>\n",
       "</div>"
      ],
      "text/plain": [
       "         var_0     var_1     var_2     var_3     var_4     var_5     var_6  \\\n",
       "0    -0.574730 -1.266707  0.454327 -0.833049  0.228594 -0.541077 -0.326665   \n",
       "1     0.271964 -0.619423  1.193760 -0.688346  0.783553  1.538658  0.250152   \n",
       "2    -0.678697 -0.275643  0.519677  0.535667 -0.312021 -0.515639  1.768763   \n",
       "3     0.127226 -0.129974 -0.666137  0.194881  0.920462  0.407578  0.505188   \n",
       "4    -0.275061  0.033969  0.820689 -0.078002  0.731228  0.953374  0.617427   \n",
       "...        ...       ...       ...       ...       ...       ...       ...   \n",
       "9993 -1.006248  0.488319 -0.678570  0.463755 -1.030667 -1.237745  1.415734   \n",
       "9994  1.238375  1.070164 -1.993491 -1.285539 -0.240058  1.777806  0.989870   \n",
       "9995  1.759688 -0.274662  0.890170  1.299513  0.460427 -0.332934 -0.818355   \n",
       "9996 -0.800879  1.844256  0.280452  0.327656  1.180119 -0.676179  0.799972   \n",
       "9997 -1.076316  0.252142 -2.011876  0.484483  0.504196  0.941731  0.078635   \n",
       "\n",
       "         var_7     var_8     var_9  ...   var_190   var_191   var_192  \\\n",
       "0     0.583649 -1.570549 -1.471375  ...  0.259427 -1.149110  0.807226   \n",
       "1    -0.025673  0.863542  0.406997  ...  0.958835  0.086888  0.432960   \n",
       "2    -0.584189 -1.570338 -1.306281  ... -0.074212  0.767556 -0.185490   \n",
       "3    -0.494077 -1.854458  0.535457  ...  0.266232 -0.892811 -0.830553   \n",
       "4     0.765560  1.804554  0.080264  ... -1.033059  0.679031 -1.418733   \n",
       "...        ...       ...       ...  ...       ...       ...       ...   \n",
       "9993 -0.234312 -0.009729  0.009406  ... -0.720445  1.288411 -2.379555   \n",
       "9994  0.707417  0.431991  0.692275  ...  0.051418 -0.974494  1.392630   \n",
       "9995 -0.926903  1.062088  0.076167  ... -0.048279 -0.369028 -0.490822   \n",
       "9996 -0.054613 -0.211232 -1.406382  ... -0.230879  1.462204  0.943064   \n",
       "9997  0.450389 -1.929652  1.123688  ... -0.172426  0.011851 -0.584608   \n",
       "\n",
       "       var_193   var_194   var_195   var_196   var_197   var_198   var_199  \n",
       "0    -0.405720  0.158135 -1.569140  1.031531 -0.379935 -1.030996  0.228034  \n",
       "1     1.906003 -0.817115  1.554082  1.077252 -0.134543  0.822477  0.518847  \n",
       "2    -0.407018  1.130009  2.334799 -1.619935 -0.702189 -0.385470  0.370220  \n",
       "3    -0.473020  1.581175 -0.774750 -0.958196  1.502094  0.694063 -0.527688  \n",
       "4     1.467303 -1.492964 -0.944947  0.303891  0.643004  0.703271 -0.509608  \n",
       "...        ...       ...       ...       ...       ...       ...       ...  \n",
       "9993 -1.019510  0.741385 -0.677707 -0.301632 -0.985032  1.382405  0.410757  \n",
       "9994  0.006394 -0.957621 -0.544581  0.676062  0.106386 -0.688337 -0.953837  \n",
       "9995  1.506046  0.937558  1.236312 -0.356301 -1.955605 -0.279295  0.482515  \n",
       "9996 -0.229506  1.481417 -0.115531 -0.259391 -0.658423 -0.156831  0.328813  \n",
       "9997 -0.566481 -1.231348  0.838131 -0.812197 -2.546440  1.161180  0.608962  \n",
       "\n",
       "[9998 rows x 200 columns]"
      ]
     },
     "execution_count": 22,
     "metadata": {},
     "output_type": "execute_result"
    }
   ],
   "source": [
    "X"
   ]
  },
  {
   "cell_type": "code",
   "execution_count": 23,
   "id": "2bc7930c",
   "metadata": {},
   "outputs": [
    {
     "name": "stdout",
     "output_type": "stream",
     "text": [
      "Before OverSampling, counts of label '1': 994\n",
      "Before OverSampling, counts of label '0': 9004 \n",
      "\n"
     ]
    }
   ],
   "source": [
    "print(\"Before OverSampling, counts of label '1': {}\".format(sum(y == 1)))\n",
    "print(\"Before OverSampling, counts of label '0': {} \\n\".format(sum(y == 0)))"
   ]
  },
  {
   "cell_type": "markdown",
   "id": "55a4f9b5",
   "metadata": {},
   "source": [
    "# SMOTE implementation to Handle imbalance Data"
   ]
  },
  {
   "cell_type": "code",
   "execution_count": 24,
   "id": "447eeecc",
   "metadata": {},
   "outputs": [],
   "source": [
    "from imblearn.over_sampling import SMOTE\n",
    "sm = SMOTE(random_state = 2)\n",
    "X_train_res, y_train_res = sm.fit_resample(X, y.ravel())"
   ]
  },
  {
   "cell_type": "markdown",
   "id": "8b76f380",
   "metadata": {},
   "source": [
    "# Balanced data after SMOTE"
   ]
  },
  {
   "cell_type": "code",
   "execution_count": 25,
   "id": "cf8716ed",
   "metadata": {},
   "outputs": [
    {
     "name": "stdout",
     "output_type": "stream",
     "text": [
      "After OverSampling, the shape of train_X: (18008, 200)\n",
      "After OverSampling, the shape of train_y: (18008,) \n",
      "\n",
      "After OverSampling, counts of label '1': 9004\n",
      "After OverSampling, counts of label '0': 9004\n"
     ]
    }
   ],
   "source": [
    "print('After OverSampling, the shape of train_X: {}'.format(X_train_res.shape))\n",
    "print('After OverSampling, the shape of train_y: {} \\n'.format(y_train_res.shape))\n",
    "  \n",
    "print(\"After OverSampling, counts of label '1': {}\".format(sum(y_train_res == 1)))\n",
    "print(\"After OverSampling, counts of label '0': {}\".format(sum(y_train_res == 0)))"
   ]
  },
  {
   "cell_type": "code",
   "execution_count": 26,
   "id": "2303e792",
   "metadata": {},
   "outputs": [
    {
     "data": {
      "text/plain": [
       "(18008, 200)"
      ]
     },
     "execution_count": 26,
     "metadata": {},
     "output_type": "execute_result"
    }
   ],
   "source": [
    "X_train_res.shape"
   ]
  },
  {
   "cell_type": "code",
   "execution_count": 27,
   "id": "f13c04ab",
   "metadata": {},
   "outputs": [
    {
     "data": {
      "text/plain": [
       "(18008,)"
      ]
     },
     "execution_count": 27,
     "metadata": {},
     "output_type": "execute_result"
    }
   ],
   "source": [
    "y_train_res.shape"
   ]
  },
  {
   "cell_type": "code",
   "execution_count": 28,
   "id": "b87190cf",
   "metadata": {},
   "outputs": [
    {
     "data": {
      "text/plain": [
       "array([0, 0, 0, ..., 1, 1, 1], dtype=int64)"
      ]
     },
     "execution_count": 28,
     "metadata": {},
     "output_type": "execute_result"
    }
   ],
   "source": [
    "y_train_res"
   ]
  },
  {
   "cell_type": "code",
   "execution_count": 30,
   "id": "ce8de297",
   "metadata": {},
   "outputs": [],
   "source": [
    "from sklearn.model_selection import train_test_split\n",
    "X_train, X_test, y_train, y_test = train_test_split(X_train_res,y_train_res, train_size=0.7,test_size=0.3,random_state=100)"
   ]
  },
  {
   "cell_type": "code",
   "execution_count": 31,
   "id": "b4c99fce",
   "metadata": {},
   "outputs": [],
   "source": [
    "from sklearn.decomposition import PCA\n",
    "pca = PCA(n_components=25)\n",
    "X_train = pca.fit_transform(X_train)\n",
    "X_test = pca.transform(X_test)"
   ]
  },
  {
   "cell_type": "code",
   "execution_count": 32,
   "id": "d4f02b15",
   "metadata": {},
   "outputs": [
    {
     "data": {
      "text/plain": [
       "(12605, 25)"
      ]
     },
     "execution_count": 32,
     "metadata": {},
     "output_type": "execute_result"
    }
   ],
   "source": [
    "X_train.shape"
   ]
  },
  {
   "cell_type": "code",
   "execution_count": 34,
   "id": "e1dbee40",
   "metadata": {},
   "outputs": [
    {
     "data": {
      "text/plain": [
       "(5403, 25)"
      ]
     },
     "execution_count": 34,
     "metadata": {},
     "output_type": "execute_result"
    }
   ],
   "source": [
    "X_test.shape"
   ]
  },
  {
   "cell_type": "code",
   "execution_count": 35,
   "id": "99fab69e",
   "metadata": {},
   "outputs": [],
   "source": [
    "from sklearn.metrics import accuracy_score,recall_score,precision_score,precision_recall_curve,roc_curve,roc_auc_score,classification_report,confusion_matrix,f1_score"
   ]
  },
  {
   "cell_type": "markdown",
   "id": "509167da",
   "metadata": {},
   "source": [
    "# KNN"
   ]
  },
  {
   "cell_type": "code",
   "execution_count": 37,
   "id": "f211c27d",
   "metadata": {},
   "outputs": [],
   "source": [
    "from sklearn.neighbors import KNeighborsClassifier\n",
    "#knn = KNeighborsClassifier()\n",
    "\n",
    "classifier_KN1 = KNeighborsClassifier()\n",
    "classifier_KN1.fit(X_train, y_train)\n",
    "\n",
    "\n",
    "y_pred = classifier_KN1.predict(X_test)"
   ]
  },
  {
   "cell_type": "code",
   "execution_count": 39,
   "id": "c316cd5f",
   "metadata": {},
   "outputs": [
    {
     "name": "stdout",
     "output_type": "stream",
     "text": [
      "[[2379  381]\n",
      " [  55 2588]]\n",
      "KNeighborsClassifier-Accuracy:  0.92\n",
      "KNeighborsClassifier-Precision:  0.87\n",
      "KNeighborsClassifier-Recall:  0.98\n",
      "KNeighborsClassifier-roc_auc_score:  0.98\n",
      "KNeighborsClassifier-f1_score:  0.92\n"
     ]
    }
   ],
   "source": [
    "y_pred_prob_KN1 = classifier_KN1.predict_proba(X_test)[:,1]\n",
    "cm_KN1 = confusion_matrix(y_test, y_pred)\n",
    "print(cm_KN1)\n",
    "print(\"KNeighborsClassifier-Accuracy: %5.2f\"%accuracy_score(y_test, y_pred))\n",
    "print(\"KNeighborsClassifier-Precision: %5.2f\"%precision_score(y_test, y_pred))\n",
    "print(\"KNeighborsClassifier-Recall: %5.2f\"%recall_score(y_test, y_pred))\n",
    "print(\"KNeighborsClassifier-roc_auc_score: %5.2f\"%roc_auc_score(y_test, y_pred_prob_KN1))\n",
    "print(\"KNeighborsClassifier-f1_score: %5.2f\"%f1_score(y_test, y_pred))"
   ]
  },
  {
   "cell_type": "code",
   "execution_count": 40,
   "id": "78d0fd42",
   "metadata": {},
   "outputs": [
    {
     "name": "stdout",
     "output_type": "stream",
     "text": [
      "AUC: 0.98\n"
     ]
    },
    {
     "data": {
      "image/png": "[encoded data removed]",
      "text/plain": [
       "<Figure size 576x396 with 1 Axes>"
      ]
     },
     "metadata": {},
     "output_type": "display_data"
    }
   ],
   "source": [
    "##ROC curve and AUC\n",
    "y_pred_prob_KN1 = classifier_KN1.predict_proba(X_test)[:,1]\n",
    "fpr,tpr,threshold = roc_curve(y_test, y_pred_prob_KN1)\n",
    "plt.plot(fpr,tpr)\n",
    "\n",
    "auc = roc_auc_score(y_test,y_pred_prob_KN1)\n",
    "print(\"AUC:\", round(auc,2))\n",
    "plt.show()"
   ]
  },
  {
   "cell_type": "code",
   "execution_count": 47,
   "id": "2584cf6c",
   "metadata": {},
   "outputs": [],
   "source": [
    "fit_model = classifier_KN1.fit(X_train, y_train)"
   ]
  },
  {
   "cell_type": "code",
   "execution_count": 48,
   "id": "dc9664f0",
   "metadata": {},
   "outputs": [],
   "source": [
    "# save the model to disk\n",
    "filename = 'finalized_model.sav'"
   ]
  },
  {
   "cell_type": "code",
   "execution_count": 50,
   "id": "b758124c",
   "metadata": {},
   "outputs": [],
   "source": [
    "import pickle "
   ]
  },
  {
   "cell_type": "code",
   "execution_count": 51,
   "id": "a3c829d5",
   "metadata": {},
   "outputs": [],
   "source": [
    "pickle.dump(fit_model, open(filename, 'wb'))"
   ]
  },
  {
   "cell_type": "code",
   "execution_count": 53,
   "id": "e2974a40",
   "metadata": {},
   "outputs": [
    {
     "name": "stdout",
     "output_type": "stream",
     "text": [
      "0.9193040903201924\n"
     ]
    }
   ],
   "source": [
    "loaded_model = pickle.load(open(filename, 'rb'))\n",
    "result = loaded_model.score(X_test, y_test)\n",
    "print(result)"
   ]
  },
  {
   "cell_type": "code",
   "execution_count": null,
   "id": "37d1c556",
   "metadata": {},
   "outputs": [],
   "source": []
  }
 ],
 "metadata": {
  "kernelspec": {
   "display_name": "Python 3 (ipykernel)",
   "language": "python",
   "name": "python3"
  },
  "language_info": {
   "codemirror_mode": {
    "name": "ipython",
    "version": 3
   },
   "file_extension": ".py",
   "mimetype": "text/x-python",
   "name": "python",
   "nbconvert_exporter": "python",
   "pygments_lexer": "ipython3",
   "version": "3.9.12"
  }
 },
 "nbformat": 4,
 "nbformat_minor": 5
}
